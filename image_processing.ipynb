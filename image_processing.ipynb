{
 "cells": [
  {
   "cell_type": "code",
   "execution_count": 46,
   "metadata": {},
   "outputs": [],
   "source": [
    "# import delle librerie\n",
    "import cv2\n",
    "import numpy as np"
   ]
  },
  {
   "cell_type": "code",
   "execution_count": 47,
   "metadata": {},
   "outputs": [],
   "source": [
    "def assign_sets():\n",
    "    '''\n",
    "    Questa funzione legge dalla cartella i seguenti file:\n",
    "    - test_assignment.txt\n",
    "    - train_assignment.txt\n",
    "    - val_assignment.txt\n",
    "    Poi ritorna tre array di valori\n",
    "    '''\n",
    "    test_set = []\n",
    "    train_set = []\n",
    "    val_set = []\n",
    "    # leggo prima Train\n",
    "    with open('train_assignment.txt', 'r') as f:\n",
    "        for row in f:\n",
    "            row = row.strip()\n",
    "            train_set.append(row)\n",
    "    # poi test\n",
    "    with open('test_assignment.txt', 'r') as f:\n",
    "        for row in f:\n",
    "            row = row.strip()\n",
    "            test_set.append(row)\n",
    "    # infine validation\n",
    "    with open('val_assignment.txt', 'r') as f:\n",
    "        for row in f:\n",
    "            row = row.strip()\n",
    "            val_set.append(row)\n",
    "    \n",
    "    print(f'Train set: {len(train_set)}')\n",
    "    print(f'Test set: {len(test_set)}')\n",
    "    print(f'Val set: {len(val_set)}')\n",
    "    return train_set, test_set, val_set"
   ]
  },
  {
   "cell_type": "code",
   "execution_count": 48,
   "metadata": {},
   "outputs": [],
   "source": [
    "def extract_boundary_box(valore, annotations):\n",
    "    '''\n",
    "    Questa funzione prende un valore in input, ovvero l'immagine dove cercare\n",
    "    ed estrae le boundary box della classe 1 relative a quel valore.\n",
    "    '''\n",
    "    path_file = 'Annotations/' + valore + '.jpg.txt'\n",
    "    # print(path_file)\n",
    "    rows = []\n",
    "    if path_file[12:] in annotations:\n",
    "        # il file è presente in Annotations\n",
    "        with open(path_file, 'r') as f:\n",
    "            for row in f:\n",
    "                row = row.strip()\n",
    "                rows.append(row)\n",
    "        rows = rows[1:] # faccio slicings\n",
    "        bboxes = []\n",
    "        for row in rows:\n",
    "            row = row.split(' ')\n",
    "            target,x,y,w,h = row\n",
    "            if int(target) == 1:\n",
    "                box = [x,y,w,h]\n",
    "                bboxes.append(box)\n",
    "        # print(f'Ho trovato {len(bboxes)} boundary boxes')\n",
    "        return bboxes\n",
    "    return None"
   ]
  },
  {
   "cell_type": "code",
   "execution_count": 49,
   "metadata": {},
   "outputs": [],
   "source": [
    "import os\n",
    "directory = 'Annotations'\n",
    "annotations = []\n",
    "for root,dirs,files in os.walk(directory):\n",
    "    for file in files:\n",
    "        annotations.append(str(file))"
   ]
  },
  {
   "cell_type": "code",
   "execution_count": 50,
   "metadata": {},
   "outputs": [
    {
     "name": "stdout",
     "output_type": "stream",
     "text": [
      "Train set: 7000\n",
      "Test set: 1000\n",
      "Val set: 1000\n"
     ]
    },
    {
     "name": "stdout",
     "output_type": "stream",
     "text": [
      "Ci sono in totale 6919 file di annotazioni per il train\n",
      "Ci sono in totale 983 file di annotazioni per il test\n",
      "Ci sono in totale 991 file di annotazioni per il validation\n"
     ]
    }
   ],
   "source": [
    "# creo i set\n",
    "train, test, val = assign_sets()\n",
    "\n",
    "bboxes_train = []\n",
    "for i in range(len(train)):\n",
    "    bboxes = extract_boundary_box(train[i], annotations)\n",
    "    if bboxes:\n",
    "        # aggiungo alle Boundary Box anche il nome dell'immagine dove andare a cercare\n",
    "        bboxes_train.append((train[i], bboxes))\n",
    "\n",
    "bboxes_test = []\n",
    "for i in range(len(test)):\n",
    "    bboxes = extract_boundary_box(test[i], annotations)\n",
    "    if bboxes:\n",
    "        # aggiungo alle Boundary Box anche il nome dell'immagine dove andare a cercare\n",
    "        bboxes_test.append([test[i], bboxes])\n",
    "\n",
    "bboxes_val = []\n",
    "for i in range(len(val)):\n",
    "    bboxes = extract_boundary_box(val[i], annotations)\n",
    "    if bboxes:\n",
    "        # aggiungo alle Boundary Box anche il nome dell'immagine dove andare a cercare\n",
    "        bboxes_val.append([val[i], bboxes])\n",
    "\n",
    "\n",
    "print(f'Ci sono in totale {len(bboxes_train)} file di annotazioni per il train')\n",
    "print(f'Ci sono in totale {len(bboxes_test)} file di annotazioni per il test')\n",
    "print(f'Ci sono in totale {len(bboxes_val)} file di annotazioni per il validation')"
   ]
  },
  {
   "cell_type": "code",
   "execution_count": 51,
   "metadata": {},
   "outputs": [],
   "source": [
    "example_image = bboxes_train[0]"
   ]
  },
  {
   "cell_type": "code",
   "execution_count": 52,
   "metadata": {},
   "outputs": [
    {
     "data": {
      "text/plain": [
       "'Images_Positive/000040.jpg'"
      ]
     },
     "execution_count": 52,
     "metadata": {},
     "output_type": "execute_result"
    }
   ],
   "source": [
    "path_image = example_image[0]\n",
    "path_image = 'Images_Positive/' + path_image + '.jpg'\n",
    "path_image"
   ]
  },
  {
   "cell_type": "code",
   "execution_count": 53,
   "metadata": {},
   "outputs": [],
   "source": [
    "image = cv2.imread(path_image)\n",
    "cv2.imshow('Immagine', image)\n",
    "cv2.waitKey(0)\n",
    "cv2.destroyAllWindows()"
   ]
  },
  {
   "cell_type": "code",
   "execution_count": 54,
   "metadata": {},
   "outputs": [],
   "source": [
    "bboxes = example_image[1]"
   ]
  },
  {
   "cell_type": "code",
   "execution_count": 55,
   "metadata": {},
   "outputs": [
    {
     "data": {
      "text/plain": [
       "30"
      ]
     },
     "execution_count": 55,
     "metadata": {},
     "output_type": "execute_result"
    }
   ],
   "source": [
    "len(bboxes)"
   ]
  },
  {
   "cell_type": "markdown",
   "metadata": {},
   "source": [
    "Dipingo le boxes"
   ]
  },
  {
   "cell_type": "code",
   "execution_count": 56,
   "metadata": {},
   "outputs": [
    {
     "data": {
      "text/plain": [
       "[['45', '235', '79', '318'],\n",
       " ['60', '209', '120', '356'],\n",
       " ['119', '214', '168', '336'],\n",
       " ['94', '220', '136', '326'],\n",
       " ['213', '201', '287', '381'],\n",
       " ['268', '201', '339', '378'],\n",
       " ['312', '192', '389', '380'],\n",
       " ['374', '226', '391', '267'],\n",
       " ['417', '225', '438', '279'],\n",
       " ['428', '222', '446', '266'],\n",
       " ['443', '224', '456', '258'],\n",
       " ['449', '227', '467', '271'],\n",
       " ['396', '217', '406', '241'],\n",
       " ['402', '210', '413', '238'],\n",
       " ['409', '217', '419', '241'],\n",
       " ['531', '222', '550', '287'],\n",
       " ['527', '217', '538', '245'],\n",
       " ['511', '213', '522', '240'],\n",
       " ['515', '211', '525', '237'],\n",
       " ['491', '216', '502', '243'],\n",
       " ['484', '209', '494', '235'],\n",
       " ['473', '211', '483', '235'],\n",
       " ['477', '211', '487', '236'],\n",
       " ['468', '212', '476', '235'],\n",
       " ['461', '210', '471', '236'],\n",
       " ['456', '212', '466', '240'],\n",
       " ['448', '209', '459', '237'],\n",
       " ['439', '210', '450', '237'],\n",
       " ['431', '211', '442', '241'],\n",
       " ['420', '213', '432', '242']]"
      ]
     },
     "execution_count": 56,
     "metadata": {},
     "output_type": "execute_result"
    }
   ],
   "source": [
    "bboxes"
   ]
  },
  {
   "cell_type": "code",
   "execution_count": 57,
   "metadata": {},
   "outputs": [],
   "source": [
    "new_image = image.copy()"
   ]
  },
  {
   "cell_type": "code",
   "execution_count": 58,
   "metadata": {},
   "outputs": [],
   "source": [
    "for bbox in bboxes:\n",
    "    for i in range(len(bbox)):\n",
    "        bbox[i] = int(bbox[i])\n",
    "    x,y,w,h = bbox\n",
    "    cv2.rectangle(new_image, (x,y), (w,h), (0,0,255),2)"
   ]
  },
  {
   "cell_type": "code",
   "execution_count": 59,
   "metadata": {},
   "outputs": [],
   "source": [
    "cv2.imshow('Image', new_image)\n",
    "cv2.waitKey(0)\n",
    "cv2.destroyAllWindows()"
   ]
  },
  {
   "cell_type": "code",
   "execution_count": 60,
   "metadata": {},
   "outputs": [],
   "source": [
    "# Specify the parameters for our HOG descriptor\n",
    "win_size = (64, 128)\n",
    "cell_size = (8, 8)\n",
    "block_size = (16, 16)\n",
    "block_stride = (8, 8)\n",
    "num_bins = 9\n",
    "\n",
    "# Set the parameters of the HOG descriptor using the variables defined above\n",
    "hog = cv2.HOGDescriptor(win_size, block_size, block_stride, cell_size, num_bins)"
   ]
  },
  {
   "cell_type": "code",
   "execution_count": 61,
   "metadata": {},
   "outputs": [],
   "source": [
    "def subimage_processing(img):\n",
    "    # faccio conversione in scala di grigi\n",
    "    # cv2.imshow('Immagine originale', img)\n",
    "    # cv2.waitKey(0)\n",
    "    img = cv2.cvtColor(img, cv2.COLOR_BGR2GRAY)\n",
    "    # quindi applico un filtro gaussiano er ridurre eventuale rumore\n",
    "    # poi applico una equilizzazione\n",
    "    img = cv2.equalizeHist(img)\n",
    "    # cv2.imshow('Immagine equilizzata', img)\n",
    "    # cv2.waitKey(0)\n",
    "    img = cv2.GaussianBlur(img,(3,3),0) # kernel size = 5x5, sigma_x = 0\n",
    "    # Applica il filtro mediano per ridurre il rumore mantenendo i dettagli\n",
    "    # img = cv2.medianBlur(img, 3)  # Usa una dimensione di kernel dispari\n",
    "    # cv2.imshow('Immagine con filtro', img)\n",
    "    # cv2.waitKey(0)\n",
    "    # infine faccio reshape\n",
    "    img = cv2.resize(img, (64, 128))  # Larghezza x Altezza\n",
    "    # cv2.imshow('Immagine con reshape', img)\n",
    "    # cv2.waitKey(0)\n",
    "    # cv2.destroyAllWindows()\n",
    "    return img"
   ]
  },
  {
   "cell_type": "code",
   "execution_count": 62,
   "metadata": {},
   "outputs": [],
   "source": [
    "descriptors = []"
   ]
  },
  {
   "cell_type": "code",
   "execution_count": 63,
   "metadata": {},
   "outputs": [],
   "source": [
    "sub_images = []"
   ]
  },
  {
   "cell_type": "code",
   "execution_count": 64,
   "metadata": {},
   "outputs": [],
   "source": [
    "for bbox in bboxes:\n",
    "    for i in range(len(bbox)):\n",
    "        bbox[i] = int(bbox[i])\n",
    "    x,y,w,h = bbox\n",
    "    # cv2.rectangle(new_image, (x,y), (w,h), (0,0,255),2)\n",
    "    sub_image = image[y:h, x:w].copy()\n",
    "    sub_images.append(sub_image)\n",
    "    cv2.imshow('Sottoimmagine prima del processing', sub_image)\n",
    "    sub_image_proc = subimage_processing(sub_image)\n",
    "    cv2.imshow('Sottoimmagine dopo il processing', sub_image_proc)\n",
    "    cv2.waitKey(0)\n",
    "    h = hog.compute(sub_image_proc)\n",
    "    descriptors.append(h)\n",
    "    # print(h)\n",
    "cv2.destroyAllWindows()"
   ]
  },
  {
   "cell_type": "code",
   "execution_count": 65,
   "metadata": {},
   "outputs": [],
   "source": [
    "import numpy as np\n",
    "\n",
    "descriptors1 = np.array(descriptors)"
   ]
  },
  {
   "cell_type": "markdown",
   "metadata": {},
   "source": [
    "x_new =  (x_orig – Media) / DeviazioneStandard"
   ]
  },
  {
   "cell_type": "code",
   "execution_count": 66,
   "metadata": {},
   "outputs": [
    {
     "data": {
      "text/plain": [
       "(30, 3780)"
      ]
     },
     "execution_count": 66,
     "metadata": {},
     "output_type": "execute_result"
    }
   ],
   "source": [
    "descriptors1.shape"
   ]
  },
  {
   "cell_type": "code",
   "execution_count": 67,
   "metadata": {},
   "outputs": [],
   "source": [
    "descriptors1_0 = (descriptors1[0] - descriptors1[0].mean()) / descriptors1[0].std()"
   ]
  },
  {
   "cell_type": "code",
   "execution_count": 68,
   "metadata": {},
   "outputs": [
    {
     "data": {
      "text/plain": [
       "(3780,)"
      ]
     },
     "execution_count": 68,
     "metadata": {},
     "output_type": "execute_result"
    }
   ],
   "source": [
    "descriptors1_0.shape"
   ]
  },
  {
   "cell_type": "code",
   "execution_count": 69,
   "metadata": {},
   "outputs": [],
   "source": [
    "descriptors1_1 = (descriptors1[1] - descriptors1[1].mean()) / descriptors1[1].std()"
   ]
  },
  {
   "cell_type": "code",
   "execution_count": 70,
   "metadata": {},
   "outputs": [],
   "source": [
    "cv2.imshow('Immagine', sub_images[0])\n",
    "cv2.imshow('Immagine2', sub_images[1])\n",
    "cv2.waitKey(0)\n",
    "cv2.destroyAllWindows()"
   ]
  },
  {
   "cell_type": "code",
   "execution_count": 71,
   "metadata": {},
   "outputs": [],
   "source": [
    "# prendo un campione negativo"
   ]
  },
  {
   "cell_type": "code",
   "execution_count": 72,
   "metadata": {},
   "outputs": [],
   "source": [
    "directory_n = 'Images_negative'\n",
    "\n",
    "images_negative = []\n",
    "\n",
    "train_n = directory_n + '/train_neg'\n",
    "test_n = directory_n + '/test_neg'\n",
    "val_n = directory_n + '/val_neg'\n",
    "\n",
    "neg_train_img = []\n",
    "neg_test_img = []\n",
    "neg_val_img = []\n"
   ]
  },
  {
   "cell_type": "code",
   "execution_count": 73,
   "metadata": {},
   "outputs": [],
   "source": [
    "for root,dirs,files in os.walk(train_n):\n",
    "    for file in files:\n",
    "        images_negative.append(str(file))\n",
    "        neg_train_img.append(str(file))"
   ]
  },
  {
   "cell_type": "code",
   "execution_count": 74,
   "metadata": {},
   "outputs": [],
   "source": [
    "path = 'Images_negative/train_neg/'"
   ]
  },
  {
   "cell_type": "code",
   "execution_count": 75,
   "metadata": {},
   "outputs": [
    {
     "data": {
      "text/plain": [
       "'no_person__no_bike_184.png'"
      ]
     },
     "execution_count": 75,
     "metadata": {},
     "output_type": "execute_result"
    }
   ],
   "source": [
    "neg_train_img[0]"
   ]
  },
  {
   "cell_type": "code",
   "execution_count": 76,
   "metadata": {},
   "outputs": [],
   "source": [
    "neg_example_img = cv2.imread(path + neg_train_img[0])\n",
    "cv2.imshow('Immagine esempio', neg_example_img)\n",
    "cv2.waitKey(0)\n",
    "cv2.destroyAllWindows()"
   ]
  },
  {
   "cell_type": "code",
   "execution_count": 77,
   "metadata": {},
   "outputs": [],
   "source": [
    "import random\n",
    "\n",
    "h,w,_ = neg_example_img.shape\n",
    "portion_size = (150, 250) # da intedersi come (x,y)\n",
    "\n",
    "tries = 10\n",
    "\n",
    "sub_images = []\n",
    "for i in range(tries):\n",
    "    x = random.randint(0, w-1)\n",
    "    y = random.randint(0, h-1)\n",
    "    sub_neg_img = neg_example_img[y:y+portion_size[1], x:x+portion_size[0]].copy()\n",
    "    sub_images.append(sub_neg_img)"
   ]
  },
  {
   "cell_type": "code",
   "execution_count": 78,
   "metadata": {},
   "outputs": [],
   "source": [
    "descriptors2 = []"
   ]
  },
  {
   "cell_type": "code",
   "execution_count": 79,
   "metadata": {},
   "outputs": [],
   "source": [
    "for sub_image in sub_images:\n",
    "    cv2.imshow('Immagine esempio', sub_image)\n",
    "    img_proc = subimage_processing(sub_image)\n",
    "    cv2.imshow('Immagine pronta per applicare il descrittore', img_proc)\n",
    "    h = hog.compute(img_proc)\n",
    "    descriptors2.append(h)\n",
    "    cv2.waitKey(0)\n",
    "cv2.destroyAllWindows()"
   ]
  },
  {
   "cell_type": "code",
   "execution_count": 80,
   "metadata": {},
   "outputs": [],
   "source": [
    "descriptors2 = np.array(descriptors2)\n",
    "descriptors2_0 = (descriptors2[0] - descriptors2[0].mean()) / descriptors2[0].std()"
   ]
  },
  {
   "cell_type": "code",
   "execution_count": 81,
   "metadata": {},
   "outputs": [
    {
     "data": {
      "text/plain": [
       "array([-0.43344665, -0.68303657,  0.22132371, ...,  0.9163363 ,\n",
       "        0.9163363 ,  0.3258165 ], dtype=float32)"
      ]
     },
     "execution_count": 81,
     "metadata": {},
     "output_type": "execute_result"
    }
   ],
   "source": [
    "descriptors2_0"
   ]
  },
  {
   "cell_type": "code",
   "execution_count": 82,
   "metadata": {},
   "outputs": [
    {
     "data": {
      "text/plain": [
       "array([ 0.75927794,  0.86132336, -0.02790849, ..., -1.0145924 ,\n",
       "       -0.70543176,  2.080611  ], dtype=float32)"
      ]
     },
     "execution_count": 82,
     "metadata": {},
     "output_type": "execute_result"
    }
   ],
   "source": [
    "descriptors1_0"
   ]
  },
  {
   "cell_type": "code",
   "execution_count": 83,
   "metadata": {},
   "outputs": [
    {
     "data": {
      "text/plain": [
       "(10, 3780)"
      ]
     },
     "execution_count": 83,
     "metadata": {},
     "output_type": "execute_result"
    }
   ],
   "source": [
    "descriptors2.shape"
   ]
  },
  {
   "cell_type": "code",
   "execution_count": 84,
   "metadata": {},
   "outputs": [
    {
     "data": {
      "text/plain": [
       "(30, 3780)"
      ]
     },
     "execution_count": 84,
     "metadata": {},
     "output_type": "execute_result"
    }
   ],
   "source": [
    "descriptors1.shape"
   ]
  },
  {
   "cell_type": "code",
   "execution_count": 85,
   "metadata": {},
   "outputs": [
    {
     "data": {
      "text/plain": [
       "0.01977269"
      ]
     },
     "execution_count": 85,
     "metadata": {},
     "output_type": "execute_result"
    }
   ],
   "source": [
    "from sklearn.metrics import mean_squared_error\n",
    "\n",
    "mse = mean_squared_error(descriptors1[0], descriptors2[0])\n",
    "mse"
   ]
  },
  {
   "cell_type": "code",
   "execution_count": 86,
   "metadata": {},
   "outputs": [
    {
     "data": {
      "text/plain": [
       "0.020094542"
      ]
     },
     "execution_count": 86,
     "metadata": {},
     "output_type": "execute_result"
    }
   ],
   "source": [
    "mse1 = mean_squared_error(descriptors1[0], descriptors1[1])\n",
    "mse1"
   ]
  },
  {
   "cell_type": "code",
   "execution_count": 87,
   "metadata": {},
   "outputs": [
    {
     "data": {
      "text/plain": [
       "2.0178235"
      ]
     },
     "execution_count": 87,
     "metadata": {},
     "output_type": "execute_result"
    }
   ],
   "source": [
    "mse2 = mean_squared_error(descriptors1_0, descriptors2_0)\n",
    "mse2"
   ]
  },
  {
   "cell_type": "code",
   "execution_count": 88,
   "metadata": {},
   "outputs": [
    {
     "data": {
      "text/plain": [
       "1.7810416"
      ]
     },
     "execution_count": 88,
     "metadata": {},
     "output_type": "execute_result"
    }
   ],
   "source": [
    "mse_same = mean_squared_error(descriptors1_0, descriptors1_1)\n",
    "mse_same"
   ]
  },
  {
   "cell_type": "code",
   "execution_count": 89,
   "metadata": {},
   "outputs": [
    {
     "data": {
      "text/plain": [
       "2.1420677"
      ]
     },
     "execution_count": 89,
     "metadata": {},
     "output_type": "execute_result"
    }
   ],
   "source": [
    "mse3 =mean_squared_error(descriptors2_0, descriptors1_1)\n",
    "mse3"
   ]
  },
  {
   "cell_type": "code",
   "execution_count": 90,
   "metadata": {},
   "outputs": [],
   "source": [
    "descriptors1_3 = (descriptors1[2] - descriptors1[2].mean()) / descriptors1[2].std()"
   ]
  },
  {
   "cell_type": "code",
   "execution_count": 92,
   "metadata": {},
   "outputs": [],
   "source": [
    "descriptors2_1 = (descriptors2[1] - descriptors2[1].mean()) / descriptors2[1].std()"
   ]
  },
  {
   "cell_type": "code",
   "execution_count": 96,
   "metadata": {},
   "outputs": [
    {
     "data": {
      "text/plain": [
       "1.6267543"
      ]
     },
     "execution_count": 96,
     "metadata": {},
     "output_type": "execute_result"
    }
   ],
   "source": [
    "mean_squared_error(descriptors1_1, descriptors1_3)"
   ]
  },
  {
   "cell_type": "code",
   "execution_count": null,
   "metadata": {},
   "outputs": [],
   "source": []
  }
 ],
 "metadata": {
  "kernelspec": {
   "display_name": "Python 3",
   "language": "python",
   "name": "python3"
  },
  "language_info": {
   "codemirror_mode": {
    "name": "ipython",
    "version": 3
   },
   "file_extension": ".py",
   "mimetype": "text/x-python",
   "name": "python",
   "nbconvert_exporter": "python",
   "pygments_lexer": "ipython3",
   "version": "3.10.12"
  }
 },
 "nbformat": 4,
 "nbformat_minor": 2
}
