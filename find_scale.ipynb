{
 "cells": [
  {
   "cell_type": "markdown",
   "metadata": {},
   "source": [
    "# Determinare le scale adatte per il multislide"
   ]
  },
  {
   "cell_type": "markdown",
   "metadata": {},
   "source": [
    "## Idea di base\n",
    "L'idea di base è quella di prendere le bounding box delle immagini, quindi determinare la bounding box più piccola e quella più grande (in termini di aree).\n",
    "\n",
    "Dopodiché cercare una scala adatta affinché moltiplicando la dimensione della finestra raggiunge quella desiderata"
   ]
  },
  {
   "cell_type": "code",
   "execution_count": 3,
   "metadata": {},
   "outputs": [],
   "source": [
    "# import delle librerie\n",
    "import cv2\n",
    "import numpy as np"
   ]
  },
  {
   "cell_type": "code",
   "execution_count": 4,
   "metadata": {},
   "outputs": [],
   "source": [
    "def assign_sets():\n",
    "    '''\n",
    "    Questa funzione legge dalla cartella i seguenti file:\n",
    "    - test_assignment.txt\n",
    "    - train_assignment.txt\n",
    "    - val_assignment.txt\n",
    "    Poi ritorna tre array di valori\n",
    "    '''\n",
    "    test_set = []\n",
    "    train_set = []\n",
    "    val_set = []\n",
    "    # leggo prima Train\n",
    "    with open('train_assignment.txt', 'r') as f:\n",
    "        for row in f:\n",
    "            row = row.strip()\n",
    "            train_set.append(row)\n",
    "    # poi test\n",
    "    with open('test_assignment.txt', 'r') as f:\n",
    "        for row in f:\n",
    "            row = row.strip()\n",
    "            test_set.append(row)\n",
    "    # infine validation\n",
    "    with open('val_assignment.txt', 'r') as f:\n",
    "        for row in f:\n",
    "            row = row.strip()\n",
    "            val_set.append(row)\n",
    "    \n",
    "    print(f'Train set: {len(train_set)}')\n",
    "    print(f'Test set: {len(test_set)}')\n",
    "    print(f'Val set: {len(val_set)}')\n",
    "    return train_set, test_set, val_set"
   ]
  },
  {
   "cell_type": "code",
   "execution_count": 5,
   "metadata": {},
   "outputs": [],
   "source": [
    "def extract_boundary_box(valore, annotations):\n",
    "    '''\n",
    "    Questa funzione prende un valore in input, ovvero l'immagine dove cercare\n",
    "    ed estrae le boundary box della classe 1 relative a quel valore.\n",
    "    '''\n",
    "    path_file = 'Annotations/' + valore + '.jpg.txt'\n",
    "    # print(path_file)\n",
    "    rows = []\n",
    "    if path_file[12:] in annotations:\n",
    "        # il file è presente in Annotations\n",
    "        with open(path_file, 'r') as f:\n",
    "            for row in f:\n",
    "                row = row.strip()\n",
    "                rows.append(row)\n",
    "        rows = rows[1:] # faccio slicings\n",
    "        bboxes = []\n",
    "        for row in rows:\n",
    "            row = row.split(' ')\n",
    "            target,x,y,w,h = row\n",
    "            if int(target) == 1:\n",
    "                box = [x,y,w,h]\n",
    "                bboxes.append(box)\n",
    "        # print(f'Ho trovato {len(bboxes)} boundary boxes')\n",
    "        return bboxes\n",
    "    return None"
   ]
  },
  {
   "cell_type": "code",
   "execution_count": 6,
   "metadata": {},
   "outputs": [],
   "source": [
    "import os\n",
    "directory = 'Annotations'\n",
    "annotations = []\n",
    "for root,dirs,files in os.walk(directory):\n",
    "    for file in files:\n",
    "        annotations.append(str(file))"
   ]
  },
  {
   "cell_type": "code",
   "execution_count": 7,
   "metadata": {},
   "outputs": [
    {
     "name": "stdout",
     "output_type": "stream",
     "text": [
      "Train set: 7000\n",
      "Test set: 1000\n",
      "Val set: 1000\n"
     ]
    },
    {
     "name": "stdout",
     "output_type": "stream",
     "text": [
      "Ci sono in totale 6919 file di annotazioni per il train\n",
      "Ci sono in totale 983 file di annotazioni per il test\n",
      "Ci sono in totale 991 file di annotazioni per il validation\n"
     ]
    }
   ],
   "source": [
    "# creo i set\n",
    "train, test, val = assign_sets()\n",
    "\n",
    "bboxes_train = []\n",
    "for i in range(len(train)):\n",
    "    bboxes = extract_boundary_box(train[i], annotations)\n",
    "    if bboxes:\n",
    "        # aggiungo alle Boundary Box anche il nome dell'immagine dove andare a cercare\n",
    "        bboxes_train.append((train[i], bboxes))\n",
    "\n",
    "bboxes_test = []\n",
    "for i in range(len(test)):\n",
    "    bboxes = extract_boundary_box(test[i], annotations)\n",
    "    if bboxes:\n",
    "        # aggiungo alle Boundary Box anche il nome dell'immagine dove andare a cercare\n",
    "        bboxes_test.append([test[i], bboxes])\n",
    "\n",
    "bboxes_val = []\n",
    "for i in range(len(val)):\n",
    "    bboxes = extract_boundary_box(val[i], annotations)\n",
    "    if bboxes:\n",
    "        # aggiungo alle Boundary Box anche il nome dell'immagine dove andare a cercare\n",
    "        bboxes_val.append([val[i], bboxes])\n",
    "\n",
    "\n",
    "print(f'Ci sono in totale {len(bboxes_train)} file di annotazioni per il train')\n",
    "print(f'Ci sono in totale {len(bboxes_test)} file di annotazioni per il test')\n",
    "print(f'Ci sono in totale {len(bboxes_val)} file di annotazioni per il validation')"
   ]
  },
  {
   "cell_type": "code",
   "execution_count": 8,
   "metadata": {},
   "outputs": [
    {
     "data": {
      "text/plain": [
       "('000408',\n",
       " [['86', '210', '116', '287'],\n",
       "  ['195', '227', '233', '320'],\n",
       "  ['288', '206', '318', '279'],\n",
       "  ['338', '203', '359', '255'],\n",
       "  ['372', '202', '389', '243'],\n",
       "  ['394', '200', '409', '238'],\n",
       "  ['442', '211', '479', '303'],\n",
       "  ['408', '200', '418', '228'],\n",
       "  ['420', '198', '431', '224'],\n",
       "  ['111', '200', '132', '254'],\n",
       "  ['25', '198', '43', '241'],\n",
       "  ['0', '211', '27', '281'],\n",
       "  ['65', '204', '81', '244'],\n",
       "  ['50', '196', '63', '228'],\n",
       "  ['181', '208', '194', '243'],\n",
       "  ['197', '212', '215', '255'],\n",
       "  ['130', '201', '146', '241'],\n",
       "  ['256', '211', '271', '247'],\n",
       "  ['269', '197', '282', '231'],\n",
       "  ['228', '201', '241', '235'],\n",
       "  ['26', '198', '43', '241'],\n",
       "  ['329', '195', '343', '229']])"
      ]
     },
     "execution_count": 8,
     "metadata": {},
     "output_type": "execute_result"
    }
   ],
   "source": [
    "example_img_bboxes = bboxes_train[56]\n",
    "example_img_bboxes"
   ]
  },
  {
   "cell_type": "code",
   "execution_count": 9,
   "metadata": {},
   "outputs": [
    {
     "data": {
      "text/plain": [
       "22"
      ]
     },
     "execution_count": 9,
     "metadata": {},
     "output_type": "execute_result"
    }
   ],
   "source": [
    "len(example_img_bboxes[1])"
   ]
  },
  {
   "cell_type": "code",
   "execution_count": 10,
   "metadata": {},
   "outputs": [
    {
     "data": {
      "text/plain": [
       "['86', '210', '116', '287']"
      ]
     },
     "execution_count": 10,
     "metadata": {},
     "output_type": "execute_result"
    }
   ],
   "source": [
    "example_img_bboxes[1][0]"
   ]
  },
  {
   "cell_type": "markdown",
   "metadata": {},
   "source": [
    "- prendi ogni bbox\n",
    "- calcola l'area\n",
    "- salva l'area in un vettore il dizionario {bbox:area}\n",
    "- ordina le bbox per area\n",
    "- estrai massimo e minimo\n",
    "- per massimo e minimo trova la scala f (con f che varia da 1 a 0.1 con passo 0.1) affinché la nuova area della winSize calcolata come w'=w/f, h'=h/f sia \"vicina\" a quella del massimo e del minimo. Poi fai lo stesso con un terzo valore intermedio"
   ]
  },
  {
   "cell_type": "code",
   "execution_count": 19,
   "metadata": {},
   "outputs": [],
   "source": [
    "def find_factor_scale(boundary, winSize):\n",
    "    # 408, 200, 418, 228\n",
    "    delta_x_1 = boundary[2] - boundary[0]\n",
    "    best_f = 1\n",
    "    areas = []\n",
    "    for i in range(10, 1, 1):\n",
    "        i = i/10\n",
    "        f = i\n",
    "        best_f = f\n",
    "        w_ = winSize[1] / f\n",
    "        h_ = winSize[0] / f\n",
    "        if (delta_x_1 / (f*w_)) <=  1:\n",
    "            break\n",
    "    return best_f\n",
    "\n",
    "def find____factor_scale(boundary, winSize):\n",
    "    area_size = winSize[0] * winSize[1]\n",
    "    b_area = boundary[1]\n",
    "    best_f = 1\n",
    "    areas = []\n",
    "    for i in range(1, 11, 1):\n",
    "        i = i/10\n",
    "        f = i\n",
    "        w_ = winSize[1] / f\n",
    "        h_ = winSize[0] / f\n",
    "        new_area = w_ * h_\n",
    "        if new_area >= b_area:\n",
    "            areas.append((new_area, f))\n",
    "    areas.sort(key=lambda x: x[1])\n",
    "    best_f = areas[-1][1]\n",
    "    return best_f"
   ]
  },
  {
   "cell_type": "code",
   "execution_count": 20,
   "metadata": {},
   "outputs": [],
   "source": [
    "def find_scale(bboxes, winSize=(64,128)):\n",
    "    bboxes_area = []\n",
    "    for bbox in bboxes:\n",
    "        # faccio il casting degli interi\n",
    "        for i in range(len(bbox)):\n",
    "            bbox[i] = int(bbox[i])\n",
    "        x1,y1,x2,y2 = bbox\n",
    "        area = abs((x2-x1)*(y2-y1))\n",
    "        bbox_area = (bbox,area)\n",
    "        bboxes_area.append(bbox_area)\n",
    "    # print(bboxes_area)\n",
    "    bboxes_area.sort(key=lambda tup: tup[1])\n",
    "    # print(bboxes_area)\n",
    "    min_boundary = bboxes_area[0]\n",
    "    max_bounday = bboxes_area[-1]\n",
    "    # medium = len(bboxes_area) // 2\n",
    "    # med_boundary = bboxes_area[medium]\n",
    "    print(min_boundary)\n",
    "    print(max_bounday)\n",
    "    # print(med_boundary)\n",
    "    f_max = find_factor_scale(max_bounday[0], winSize)\n",
    "    f_min = find_factor_scale(min_boundary[0], winSize)\n",
    "    f_med = (f_max + f_min) / 2\n",
    "    print(f'F max: {f_max}')\n",
    "    print(f'F min: {f_min}')\n",
    "    # print(f'F med: {f_med}')\n",
    "    return f_max, f_med, f_min\n",
    "\n",
    "        "
   ]
  },
  {
   "cell_type": "code",
   "execution_count": 21,
   "metadata": {},
   "outputs": [
    {
     "name": "stdout",
     "output_type": "stream",
     "text": [
      "([408, 200, 418, 228], 280)\n",
      "([195, 227, 233, 320], 3534)\n",
      "F max: 1\n",
      "F min: 1\n"
     ]
    },
    {
     "data": {
      "text/plain": [
       "(1, 1.0, 1)"
      ]
     },
     "execution_count": 21,
     "metadata": {},
     "output_type": "execute_result"
    }
   ],
   "source": [
    "find_scale(example_img_bboxes[1])"
   ]
  }
 ],
 "metadata": {
  "kernelspec": {
   "display_name": "Python 3",
   "language": "python",
   "name": "python3"
  },
  "language_info": {
   "codemirror_mode": {
    "name": "ipython",
    "version": 3
   },
   "file_extension": ".py",
   "mimetype": "text/x-python",
   "name": "python",
   "nbconvert_exporter": "python",
   "pygments_lexer": "ipython3",
   "version": "3.10.12"
  }
 },
 "nbformat": 4,
 "nbformat_minor": 2
}
