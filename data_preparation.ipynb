{
 "cells": [
  {
   "cell_type": "markdown",
   "metadata": {},
   "source": [
    "# Fase di preparazione dei dati"
   ]
  },
  {
   "cell_type": "markdown",
   "metadata": {},
   "source": [
    "## Descrizione del dataset"
   ]
  },
  {
   "cell_type": "markdown",
   "metadata": {},
   "source": [
    "Abbiamo a disposizione due dataset:\n",
    "- campioni positivi (dove c'è sicuramente un pedone)\n",
    "- campioni negativi (dove invece il pedone non c'è)\n",
    "\n",
    "Questi campioni sono organizzati in 3 insiemi disgiunti:\n",
    "- Train Set\n",
    "- Test Set\n",
    "- Validation Set\n",
    "\n",
    "Il nostro compito è quello di estrarre le immaggini di train, test e set per ogni campione positivo e negativo e creare per ogni immagine un \"mapping\" tale per cui assegniamo classe 1 o 0 se il pedone c'è o no."
   ]
  },
  {
   "cell_type": "code",
   "execution_count": 2,
   "metadata": {},
   "outputs": [],
   "source": [
    "# import delle librerie\n",
    "import cv2\n",
    "import numpy as np"
   ]
  },
  {
   "cell_type": "markdown",
   "metadata": {},
   "source": [
    "### Campioni Positivi"
   ]
  },
  {
   "cell_type": "markdown",
   "metadata": {},
   "source": [
    "Per quanto riguarda i campioni positivi, ogni immagine è \"descritta\" da delle boundary boxes che ci dicono dove si trovano i pedoni e a quale classe di pedone appartiene quella boundary box. A noi tuttavia interesserà sapere quelle appartenenti alla classe 1.\n",
    "\n",
    "Per leggere le informazioni su queste boundary boxes prima devo leggere quali sono le \"immagini\" da tenere conto per ogni insieme (test, train e validation), ovvero devo prendere SOLO le boundary boxes delle annotations dei seguenti file txt:\n",
    "- test_assignment.txt\n",
    "- train_assignment.txt\n",
    "- val_assignment.txt"
   ]
  },
  {
   "cell_type": "code",
   "execution_count": 3,
   "metadata": {},
   "outputs": [],
   "source": [
    "def assign_sets():\n",
    "    '''\n",
    "    Questa funzione legge dalla cartella i seguenti file:\n",
    "    - test_assignment.txt\n",
    "    - train_assignment.txt\n",
    "    - val_assignment.txt\n",
    "    Poi ritorna tre array di valori\n",
    "    '''\n",
    "    test_set = []\n",
    "    train_set = []\n",
    "    val_set = []\n",
    "    # leggo prima Train\n",
    "    with open('train_assignment.txt', 'r') as f:\n",
    "        for row in f:\n",
    "            row = row.strip()\n",
    "            train_set.append(row)\n",
    "    # poi test\n",
    "    with open('test_assignment.txt', 'r') as f:\n",
    "        for row in f:\n",
    "            row = row.strip()\n",
    "            test_set.append(row)\n",
    "    # infine validation\n",
    "    with open('val_assignment.txt', 'r') as f:\n",
    "        for row in f:\n",
    "            row = row.strip()\n",
    "            val_set.append(row)\n",
    "    \n",
    "    print(f'Train set: {len(train_set)}')\n",
    "    print(f'Test set: {len(test_set)}')\n",
    "    print(f'Val set: {len(val_set)}')\n",
    "    return train_set, test_set, val_set"
   ]
  },
  {
   "cell_type": "code",
   "execution_count": 4,
   "metadata": {},
   "outputs": [],
   "source": [
    "def extract_boundary_box(valore, annotations):\n",
    "    '''\n",
    "    Questa funzione prende un valore in input, ovvero l'immagine dove cercare\n",
    "    ed estrae le boundary box della classe 1 relative a quel valore.\n",
    "    '''\n",
    "    path_file = 'Annotations/' + valore + '.jpg.txt'\n",
    "    # print(path_file)\n",
    "    rows = []\n",
    "    if path_file[12:] in annotations:\n",
    "        # il file è presente in Annotations\n",
    "        with open(path_file, 'r') as f:\n",
    "            for row in f:\n",
    "                row = row.strip()\n",
    "                rows.append(row)\n",
    "        rows = rows[1:] # faccio slicings\n",
    "        bboxes = []\n",
    "        for row in rows:\n",
    "            row = row.split(' ')\n",
    "            target,x,y,w,h = row\n",
    "            if int(target) == 1:\n",
    "                box = [x,y,w,h]\n",
    "                bboxes.append(box)\n",
    "        # print(f'Ho trovato {len(bboxes)} boundary boxes')\n",
    "        return bboxes\n",
    "    return None"
   ]
  },
  {
   "cell_type": "markdown",
   "metadata": {},
   "source": [
    "Estraggo tutti file contenuti dentro la cartella Annotations. Potrebbe esserci che ci siano dei valori contenuti in Annotations che non siano presenti nei file!"
   ]
  },
  {
   "cell_type": "code",
   "execution_count": 5,
   "metadata": {},
   "outputs": [],
   "source": [
    "import os\n",
    "directory = 'Annotations'\n",
    "annotations = []\n",
    "for root,dirs,files in os.walk(directory):\n",
    "    for file in files:\n",
    "        annotations.append(str(file))"
   ]
  },
  {
   "cell_type": "code",
   "execution_count": 6,
   "metadata": {},
   "outputs": [
    {
     "name": "stdout",
     "output_type": "stream",
     "text": [
      "Ci sono 8918 file in totale\n"
     ]
    }
   ],
   "source": [
    "print(f'Ci sono {len(annotations)} file in totale')"
   ]
  },
  {
   "cell_type": "code",
   "execution_count": 7,
   "metadata": {},
   "outputs": [
    {
     "name": "stdout",
     "output_type": "stream",
     "text": [
      "Train set: 7000\n",
      "Test set: 1000\n",
      "Val set: 1000\n"
     ]
    },
    {
     "name": "stdout",
     "output_type": "stream",
     "text": [
      "Ci sono in totale 6919 file di annotazioni per il train\n",
      "Ci sono in totale 983 file di annotazioni per il test\n",
      "Ci sono in totale 991 file di annotazioni per il validation\n"
     ]
    }
   ],
   "source": [
    "# creo i set\n",
    "train, test, val = assign_sets()\n",
    "\n",
    "bboxes_train = []\n",
    "for i in range(len(train)):\n",
    "    bboxes = extract_boundary_box(train[i], annotations)\n",
    "    if bboxes:\n",
    "        # aggiungo alle Boundary Box anche il nome dell'immagine dove andare a cercare\n",
    "        bboxes_train.append((train[i], bboxes))\n",
    "\n",
    "bboxes_test = []\n",
    "for i in range(len(test)):\n",
    "    bboxes = extract_boundary_box(test[i], annotations)\n",
    "    if bboxes:\n",
    "        # aggiungo alle Boundary Box anche il nome dell'immagine dove andare a cercare\n",
    "        bboxes_test.append([test[i], bboxes])\n",
    "\n",
    "bboxes_val = []\n",
    "for i in range(len(val)):\n",
    "    bboxes = extract_boundary_box(val[i], annotations)\n",
    "    if bboxes:\n",
    "        # aggiungo alle Boundary Box anche il nome dell'immagine dove andare a cercare\n",
    "        bboxes_val.append([val[i], bboxes])\n",
    "\n",
    "\n",
    "print(f'Ci sono in totale {len(bboxes_train)} file di annotazioni per il train')\n",
    "print(f'Ci sono in totale {len(bboxes_test)} file di annotazioni per il test')\n",
    "print(f'Ci sono in totale {len(bboxes_val)} file di annotazioni per il validation')"
   ]
  },
  {
   "cell_type": "code",
   "execution_count": 8,
   "metadata": {},
   "outputs": [
    {
     "name": "stdout",
     "output_type": "stream",
     "text": [
      "Ci sono 8918 annotazioni per le boundary box\n",
      "Ci sono 13259 immagini di campioni positivi\n"
     ]
    }
   ],
   "source": [
    "directory_p = 'Images_Positive'\n",
    "\n",
    "images_positive = []\n",
    "for root,dirs,files in os.walk(directory_p):\n",
    "    for file in files:\n",
    "        images_positive.append(str(file))\n",
    "\n",
    "print(f'Ci sono {len(annotations)} annotazioni per le boundary box')\n",
    "print(f'Ci sono {len(images_positive)} immagini di campioni positivi')"
   ]
  },
  {
   "cell_type": "markdown",
   "metadata": {},
   "source": [
    "Ora che ho estratto tutte le Boundary Box di train, test e train ne stampo una di esempio per far capire come dobbiamo trattare:"
   ]
  },
  {
   "cell_type": "code",
   "execution_count": 9,
   "metadata": {},
   "outputs": [
    {
     "data": {
      "text/plain": [
       "('000040',\n",
       " [['45', '235', '79', '318'],\n",
       "  ['60', '209', '120', '356'],\n",
       "  ['119', '214', '168', '336'],\n",
       "  ['94', '220', '136', '326'],\n",
       "  ['213', '201', '287', '381'],\n",
       "  ['268', '201', '339', '378'],\n",
       "  ['312', '192', '389', '380'],\n",
       "  ['374', '226', '391', '267'],\n",
       "  ['417', '225', '438', '279'],\n",
       "  ['428', '222', '446', '266'],\n",
       "  ['443', '224', '456', '258'],\n",
       "  ['449', '227', '467', '271'],\n",
       "  ['396', '217', '406', '241'],\n",
       "  ['402', '210', '413', '238'],\n",
       "  ['409', '217', '419', '241'],\n",
       "  ['531', '222', '550', '287'],\n",
       "  ['527', '217', '538', '245'],\n",
       "  ['511', '213', '522', '240'],\n",
       "  ['515', '211', '525', '237'],\n",
       "  ['491', '216', '502', '243'],\n",
       "  ['484', '209', '494', '235'],\n",
       "  ['473', '211', '483', '235'],\n",
       "  ['477', '211', '487', '236'],\n",
       "  ['468', '212', '476', '235'],\n",
       "  ['461', '210', '471', '236'],\n",
       "  ['456', '212', '466', '240'],\n",
       "  ['448', '209', '459', '237'],\n",
       "  ['439', '210', '450', '237'],\n",
       "  ['431', '211', '442', '241'],\n",
       "  ['420', '213', '432', '242']])"
      ]
     },
     "execution_count": 9,
     "metadata": {},
     "output_type": "execute_result"
    }
   ],
   "source": [
    "bboxes_train[0]"
   ]
  },
  {
   "cell_type": "markdown",
   "metadata": {},
   "source": [
    "Ogni boundary box va letta come:[x,y,w,h], dove:\n",
    "- x,y: coordinate del rettangolo in alto a sx dove inizia la boundary box\n",
    "- w: larghezza\n",
    "- h: altezza"
   ]
  },
  {
   "cell_type": "markdown",
   "metadata": {},
   "source": [
    "L'idea è quella di usare il primo valore per 'aprire' l'immagine, poi usare le boundary box per fare slicing delle foto e poi applicare il descrittore HOG ad ognuno di loro. Alla fine, dopo aver aperto l'immagine e aver calcolato il descrittore su ogni campione positivo, otterrò un vettore di label positive del tipo (descrittore, 1)"
   ]
  },
  {
   "cell_type": "markdown",
   "metadata": {},
   "source": [
    "Definisco innanzitutto il descrittore HOG, utilizzando i parametri di Default e la dimensione della finestra fissata a h=128, w=64 pixel. Dalla documentazione vediamo che questi sono i valori di default.\n",
    "Inoltre, per il momento, addestriamo il nostro descrittore su un modello di Default di OpenCV"
   ]
  },
  {
   "cell_type": "markdown",
   "metadata": {},
   "source": [
    "#### Descrittore HOG\n",
    "\n",
    "cv2.HOGDescriptor(\n",
    "  \n",
    "                win_size=(64, 128),\n",
    "                block_size=(16, 16),\n",
    "                block_stride=(8, 8),\n",
    "                cell_size=(8, 8),\n",
    "                nbins=9,\n",
    "                win_sigma=DEFAULT_WIN_SIGMA,\n",
    "                threshold_L2hys=0.2,\n",
    "                gamma_correction=true,\n",
    "                nlevels=DEFAULT_NLEVELS\n",
    "                \n",
    "              )"
   ]
  },
  {
   "cell_type": "markdown",
   "metadata": {},
   "source": [
    "- win_size: dimensione della finestra di rilevamento in pixel (larghezza, altezza). Definisce la regione di interesse. Deve essere un multiplo intero della dimensione della cella.\n",
    "\n",
    "- block_size: dimensione del blocco in pixel (larghezza, altezza). Definisce quante celle sono presenti in ciascun blocco. Deve essere un multiplo intero della dimensione della cella e deve essere inferiore alla finestra di rilevamento. Più piccolo è il blocco, maggiori saranno i dettagli che otterrai.\n",
    "\n",
    "- block_stride: blocca il passo in pixel (orizzontale, verticale). Deve essere un multiplo intero della dimensione della cella. Il block_stride definisce la distanza tra i blocchi adiacenti, ad esempio, 8 pixel in orizzontale e 8 pixel in verticale. Block_strides più lunghi rendono l'algoritmo più veloce (perché vengono valutati meno blocchi) ma l'algoritmo potrebbe non funzionare altrettanto bene.\n",
    "\n",
    "- cell_size: dimensione della cella in pixel (larghezza, altezza). Determina la dimensione della tua cella. Più piccola è la cella, più dettagli otterrai.\n",
    "\n",
    "- nbins: numero di bin per gli istogrammi. Determina il numero di contenitori angolari utilizzati per creare gli istogrammi. Con più contenitori catturi più direzioni del gradiente. HOG utilizza gradienti senza segno, quindi i contenitori angolari avranno valori compresi tra 0 e 180 gradi.\n",
    "\n",
    "- win_sigma: parametro della finestra di livellamento gaussiano. Le prestazioni dell'algoritmo HOG possono essere migliorate smussando i pixel vicino ai bordi dei blocchi applicando una finestra spaziale gaussiana a ciascun pixel prima di calcolare gli istogrammi.\n",
    "\n",
    "- soglia_L2hys: ritiro del metodo di normalizzazione L2-Hys (norma L2 ritagliata in stile Lowe). Il metodo L2-Hys viene utilizzato per normalizzare i blocchi e consiste in una norma L2 seguita da ritaglio e rinormalizzazione. Il ritaglio limita il valore massimo del vettore descrittore per ciascun blocco in modo che abbia il valore della soglia specificata (0,2 per impostazione predefinita).\n",
    "\n",
    "- gamma_correction: flag per specificare se è richiesta o meno la preelaborazione della correzione gamma. L'esecuzione della correzione gamma aumenta leggermente le prestazioni dell'algoritmo HOG.\n",
    "\n",
    "- nlevels: aumenta il numero massimo di finestre di rilevamento."
   ]
  },
  {
   "attachments": {
    "image.png": {
     "image/png": "[encoded data removed]"
    }
   },
   "cell_type": "markdown",
   "metadata": {},
   "source": [
    "![image.png](attachment:image.png)"
   ]
  },
  {
   "cell_type": "code",
   "execution_count": 10,
   "metadata": {},
   "outputs": [],
   "source": [
    "# Specify the parameters for our HOG descriptor\n",
    "win_size = (64, 128)\n",
    "cell_size = (8, 8)\n",
    "block_size = (16, 16)\n",
    "block_stride = (8, 8)\n",
    "num_bins = 9\n",
    "\n",
    "# Set the parameters of the HOG descriptor using the variables defined above\n",
    "hog = cv2.HOGDescriptor(win_size, block_size, block_stride, cell_size, num_bins)"
   ]
  },
  {
   "cell_type": "markdown",
   "metadata": {},
   "source": [
    "Definisco una funzione che, presa un elemento da un set (train, test o val):\n",
    "- estrare le boundary boxes\n",
    "- per ognuna di essere ritorna un descrittore\n",
    "\n",
    "La funzione dovrà tornare quindi una lista di descrittori che useremo per costruire l'esempio di campioni positivi"
   ]
  },
  {
   "cell_type": "code",
   "execution_count": 11,
   "metadata": {},
   "outputs": [
    {
     "data": {
      "text/plain": [
       "'005566.jpg'"
      ]
     },
     "execution_count": 11,
     "metadata": {},
     "output_type": "execute_result"
    }
   ],
   "source": [
    "images_positive[0]"
   ]
  },
  {
   "cell_type": "code",
   "execution_count": 12,
   "metadata": {},
   "outputs": [],
   "source": [
    "def extract_subset_bbox(valore):\n",
    "    '''\n",
    "    Presa in input l'immagine da 'analizzare', estraggo le boundary boxes e faccio slicing\n",
    "    '''\n",
    "    image_path, bboxes = valore\n",
    "    if (f'{image_path}.jpg' in images_positive):\n",
    "        image = cv2.imread(f'Images_Positive/{image_path}.jpg')\n",
    "        sub_images = []\n",
    "        for bbox in bboxes:\n",
    "            # faccio il casting degli interi\n",
    "            for i in range(len(bbox)):\n",
    "                bbox[i] = int(bbox[i])\n",
    "            x,y,w,h = bbox\n",
    "            if w > 0 and h > 0:\n",
    "                # evito boundary box false\n",
    "                sub_image = image[y:y+h, x:x+w].copy()\n",
    "                # cv2.imshow(f'Boundary Box: {bbox}', sub_image)\n",
    "                # cv2.waitKey(0)\n",
    "                sub_images.append(sub_image)\n",
    "        # cv2.destroyAllWindows()\n",
    "        return sub_images\n",
    "    return []"
   ]
  },
  {
   "cell_type": "code",
   "execution_count": 13,
   "metadata": {},
   "outputs": [],
   "source": [
    "bboxes_0_example = extract_subset_bbox(bboxes_train[0])"
   ]
  },
  {
   "cell_type": "code",
   "execution_count": 14,
   "metadata": {},
   "outputs": [
    {
     "data": {
      "text/plain": [
       "True"
      ]
     },
     "execution_count": 14,
     "metadata": {},
     "output_type": "execute_result"
    }
   ],
   "source": [
    "len(extract_subset_bbox(bboxes_train[0])) == len(bboxes_train[0][1])\n",
    "# la dimensione corrisponde"
   ]
  },
  {
   "cell_type": "markdown",
   "metadata": {},
   "source": [
    "Realizzo anche una funzione di image proccessing per fare in modo che ogni immagine croppata dalla funzione precedente venga riscalata a 64x128 pixel e:\n",
    "- prima viene convertita in scala di grigi\n",
    "- eventualmente faccio equilizzazione dei colori per portarli tutti a livelli di contrasto e luminanza identici\n",
    "- poi applico un filtro gaussiano\n",
    "- infine faccio resize dell'immagine"
   ]
  },
  {
   "cell_type": "code",
   "execution_count": 15,
   "metadata": {},
   "outputs": [],
   "source": [
    "def subimage_processing(img):\n",
    "    # faccio conversione in scala di grigi\n",
    "    # cv2.imshow('Immagine originale', img)\n",
    "    # cv2.waitKey(0)\n",
    "    img = cv2.cvtColor(img, cv2.COLOR_BGR2GRAY)\n",
    "    # poi applico una equilizzazione\n",
    "    img = cv2.equalizeHist(img)\n",
    "    # cv2.imshow('Immagine equilizzata', img)\n",
    "    # cv2.waitKey(0)\n",
    "    # quindi applico un filtro gaussiano er ridurre eventuale rumore\n",
    "    img = cv2.GaussianBlur(img,(5,5),0) # kernel size = 5x5, sigma_x = 0\n",
    "    # cv2.imshow('Immagine con filtro', img)\n",
    "    # cv2.waitKey(0)\n",
    "    # infine faccio reshape\n",
    "    img = cv2.resize(img, (64, 128))  # Larghezza x Altezza\n",
    "    # cv2.imshow('Immagine con reshape', img)\n",
    "    # cv2.waitKey(0)\n",
    "    # cv2.destroyAllWindows()\n",
    "    return img"
   ]
  },
  {
   "cell_type": "code",
   "execution_count": 16,
   "metadata": {},
   "outputs": [
    {
     "data": {
      "text/plain": [
       "array([[  9,   7,   6, ...,  55,  65,  68],\n",
       "       [  9,   8,   8, ...,  56,  63,  64],\n",
       "       [ 10,  11,  10, ...,  55,  57,  57],\n",
       "       ...,\n",
       "       [ 48,  48,  49, ..., 182, 184, 184],\n",
       "       [ 46,  47,  47, ..., 176, 177, 178],\n",
       "       [ 45,  45,  46, ..., 172, 174, 176]], dtype=uint8)"
      ]
     },
     "execution_count": 16,
     "metadata": {},
     "output_type": "execute_result"
    }
   ],
   "source": [
    "subimage_processing(bboxes_0_example[0])"
   ]
  },
  {
   "cell_type": "markdown",
   "metadata": {},
   "source": [
    "Resta solo da testare il comportamento con i descrittori"
   ]
  },
  {
   "cell_type": "code",
   "execution_count": 17,
   "metadata": {},
   "outputs": [],
   "source": [
    "subimages = extract_subset_bbox(bboxes_train[0])\n",
    "descriptors = []\n",
    "for subimage in subimages:\n",
    "    subimage = subimage_processing(subimage)\n",
    "    descriptor = hog.compute(subimage)\n",
    "    descriptors.append(descriptor)"
   ]
  },
  {
   "cell_type": "code",
   "execution_count": 18,
   "metadata": {},
   "outputs": [
    {
     "data": {
      "text/plain": [
       "(3780,)"
      ]
     },
     "execution_count": 18,
     "metadata": {},
     "output_type": "execute_result"
    }
   ],
   "source": [
    "descriptors[0].shape"
   ]
  },
  {
   "cell_type": "code",
   "execution_count": 19,
   "metadata": {},
   "outputs": [
    {
     "data": {
      "text/plain": [
       "(3780,)"
      ]
     },
     "execution_count": 19,
     "metadata": {},
     "output_type": "execute_result"
    }
   ],
   "source": [
    "descriptors[1].shape"
   ]
  },
  {
   "cell_type": "code",
   "execution_count": 20,
   "metadata": {},
   "outputs": [
    {
     "data": {
      "text/plain": [
       "(3780,)"
      ]
     },
     "execution_count": 20,
     "metadata": {},
     "output_type": "execute_result"
    }
   ],
   "source": [
    "descriptors[27].shape"
   ]
  },
  {
   "cell_type": "markdown",
   "metadata": {},
   "source": [
    "Notiamo come tutti i descrittori hanno lo stesso numero di feature a parità di dimensione!"
   ]
  },
  {
   "cell_type": "markdown",
   "metadata": {},
   "source": [
    "adesso che sappiamo che funziona per un campione, partiamo con la costruzione dei campioni positivi"
   ]
  },
  {
   "cell_type": "code",
   "execution_count": 21,
   "metadata": {},
   "outputs": [],
   "source": [
    "positive_samples = []"
   ]
  },
  {
   "cell_type": "markdown",
   "metadata": {},
   "source": [
    "Vista l'alta dimensionalità del dataset decidiamo di prendere un sottoesempio del campione. Per esempio decidiamo di prendere in totale qualcosa come 2000 campioni dal dataset.\n",
    "Rispetto le proporzioni del 78% train, 11% test e 11% validazione. Su 2000 campioni avremo:\n",
    "- 1560 campioni di train\n",
    "- 220 campioni di test\n",
    "- 220 campioni di validazione"
   ]
  },
  {
   "cell_type": "code",
   "execution_count": 24,
   "metadata": {},
   "outputs": [],
   "source": [
    "# randomizziamo\n",
    "import random\n",
    "\n",
    "random.shuffle(bboxes_train)\n",
    "random.shuffle(bboxes_test)\n",
    "random.shuffle(bboxes_val)\n",
    "\n",
    "reduced_train = bboxes_train[:780]\n",
    "reduced_test = bboxes_test[:110]\n",
    "reduced_val = bboxes_val[:110]"
   ]
  },
  {
   "cell_type": "markdown",
   "metadata": {},
   "source": [
    "#### Estraggo i campioni di train"
   ]
  },
  {
   "cell_type": "code",
   "execution_count": 25,
   "metadata": {},
   "outputs": [
    {
     "name": "stdout",
     "output_type": "stream",
     "text": [
      "Index0\n",
      "Index100\n",
      "Index200\n",
      "Index300\n",
      "Index400\n",
      "Index500\n",
      "Index600\n",
      "Index700\n"
     ]
    }
   ],
   "source": [
    "sub_sets = []\n",
    "for i in range(len(reduced_train)):\n",
    "    if (i%100 == 0):\n",
    "        print(f'Index{i}')\n",
    "    subimages = extract_subset_bbox(reduced_train[i])\n",
    "    sub_sets.append(subimages)"
   ]
  },
  {
   "cell_type": "code",
   "execution_count": 26,
   "metadata": {},
   "outputs": [],
   "source": [
    "train_samples = []"
   ]
  },
  {
   "cell_type": "code",
   "execution_count": 27,
   "metadata": {},
   "outputs": [
    {
     "name": "stdout",
     "output_type": "stream",
     "text": [
      "Index 0\n",
      "Index 100\n",
      "Index 200\n",
      "Index 300\n",
      "Index 400\n",
      "Index 500\n",
      "Index 600\n",
      "Index 700\n"
     ]
    }
   ],
   "source": [
    "for i in range(len(sub_sets)):\n",
    "    if (i%100 == 0):\n",
    "        print(f'Index {i}')\n",
    "    if sub_sets[i]:\n",
    "        subimages = sub_sets[i].copy()\n",
    "        for subimage in subimages:\n",
    "            if subimage is not None:\n",
    "                subimage = subimage_processing(subimage)\n",
    "                descriptor = hog.compute(subimage)\n",
    "                new_sample = (descriptor,1)\n",
    "                positive_samples.append(new_sample)\n",
    "                train_samples.append(new_sample)"
   ]
  },
  {
   "cell_type": "code",
   "execution_count": 29,
   "metadata": {},
   "outputs": [
    {
     "name": "stdout",
     "output_type": "stream",
     "text": [
      "Ci sono 15190 campioni per il train\n",
      "Ci sono 3780 descrittori per ogni immagine\n"
     ]
    }
   ],
   "source": [
    "print(f'Ci sono {len(train_samples)} campioni per il train')\n",
    "print(f'Ci sono {len(train_samples[0][0])} descrittori per ogni immagine')"
   ]
  },
  {
   "cell_type": "markdown",
   "metadata": {},
   "source": [
    "#### Estraggo i campioni di Test"
   ]
  },
  {
   "cell_type": "code",
   "execution_count": 30,
   "metadata": {},
   "outputs": [
    {
     "name": "stdout",
     "output_type": "stream",
     "text": [
      "Index0\n",
      "Index100\n"
     ]
    }
   ],
   "source": [
    "sub_sets = []\n",
    "for i in range(len(reduced_test)):\n",
    "    if (i%100 == 0):\n",
    "        print(f'Index{i}')\n",
    "    subimages = extract_subset_bbox(reduced_test[i])\n",
    "    sub_sets.append(subimages)"
   ]
  },
  {
   "cell_type": "code",
   "execution_count": 37,
   "metadata": {},
   "outputs": [],
   "source": [
    "test_samples = []"
   ]
  },
  {
   "cell_type": "code",
   "execution_count": 38,
   "metadata": {},
   "outputs": [
    {
     "name": "stdout",
     "output_type": "stream",
     "text": [
      "Index 0\n",
      "Index 100\n"
     ]
    }
   ],
   "source": [
    "for i in range(len(sub_sets)):\n",
    "    if (i%100 == 0):\n",
    "        print(f'Index {i}')\n",
    "    if sub_sets[i]:\n",
    "        subimages = sub_sets[i].copy()\n",
    "        for subimage in subimages:\n",
    "            if subimage is not None:\n",
    "                subimage = subimage_processing(subimage)\n",
    "                descriptor = hog.compute(subimage)\n",
    "                new_sample = (descriptor,1)\n",
    "                positive_samples.append(new_sample)\n",
    "                test_samples.append(new_sample)"
   ]
  },
  {
   "cell_type": "code",
   "execution_count": 39,
   "metadata": {},
   "outputs": [
    {
     "name": "stdout",
     "output_type": "stream",
     "text": [
      "Ci sono 2308 campioni per il test\n",
      "Ci sono 3780 descrittori per ogni immagine\n"
     ]
    }
   ],
   "source": [
    "print(f'Ci sono {len(test_samples)} campioni per il test')\n",
    "print(f'Ci sono {len(test_samples[0][0])} descrittori per ogni immagine')"
   ]
  },
  {
   "cell_type": "markdown",
   "metadata": {},
   "source": [
    "#### Estraggo i campioni di validazione"
   ]
  },
  {
   "cell_type": "code",
   "execution_count": 40,
   "metadata": {},
   "outputs": [
    {
     "name": "stdout",
     "output_type": "stream",
     "text": [
      "Index0\n",
      "Index100\n"
     ]
    }
   ],
   "source": [
    "sub_sets = []\n",
    "for i in range(len(reduced_val)):\n",
    "    if (i%100 == 0):\n",
    "        print(f'Index{i}')\n",
    "    subimages = extract_subset_bbox(reduced_val[i])\n",
    "    sub_sets.append(subimages)"
   ]
  },
  {
   "cell_type": "code",
   "execution_count": 41,
   "metadata": {},
   "outputs": [],
   "source": [
    "val_samples = []"
   ]
  },
  {
   "cell_type": "code",
   "execution_count": 42,
   "metadata": {},
   "outputs": [
    {
     "name": "stdout",
     "output_type": "stream",
     "text": [
      "Index 0\n",
      "Index 100\n"
     ]
    }
   ],
   "source": [
    "for i in range(len(sub_sets)):\n",
    "    if (i%100 == 0):\n",
    "        print(f'Index {i}')\n",
    "    if sub_sets[i]:\n",
    "        subimages = sub_sets[i].copy()\n",
    "        for subimage in subimages:\n",
    "            if subimage is not None:\n",
    "                subimage = subimage_processing(subimage)\n",
    "                descriptor = hog.compute(subimage)\n",
    "                new_sample = (descriptor,1)\n",
    "                positive_samples.append(new_sample)\n",
    "                val_samples.append(new_sample)"
   ]
  },
  {
   "cell_type": "code",
   "execution_count": 44,
   "metadata": {},
   "outputs": [
    {
     "name": "stdout",
     "output_type": "stream",
     "text": [
      "Ci sono 2308 campioni per la validazione\n",
      "Ci sono 3780 descrittori per ogni immagine\n"
     ]
    }
   ],
   "source": [
    "print(f'Ci sono {len(val_samples)} campioni per la validazione')\n",
    "print(f'Ci sono {len(val_samples[0][0])} descrittori per ogni immagine')"
   ]
  },
  {
   "cell_type": "markdown",
   "metadata": {},
   "source": [
    "### Campioni negativi"
   ]
  },
  {
   "cell_type": "markdown",
   "metadata": {},
   "source": [
    "Per estrarre i campioni negativi, devo usare la cartella Images_negative"
   ]
  },
  {
   "cell_type": "code",
   "execution_count": 45,
   "metadata": {},
   "outputs": [],
   "source": [
    "directory_n = 'Images_negative'\n",
    "\n",
    "images_negative = []"
   ]
  },
  {
   "cell_type": "code",
   "execution_count": 52,
   "metadata": {},
   "outputs": [],
   "source": [
    "train_n = directory_n + '/train_neg'\n",
    "test_n = directory_n + '/test_neg'\n",
    "val_n = directory_n + '/val_neg'"
   ]
  },
  {
   "cell_type": "code",
   "execution_count": 53,
   "metadata": {},
   "outputs": [],
   "source": [
    "neg_train_img = []\n",
    "neg_test_img = []\n",
    "neg_val_img = []"
   ]
  },
  {
   "cell_type": "code",
   "execution_count": 55,
   "metadata": {},
   "outputs": [],
   "source": [
    "for root,dirs,files in os.walk(train_n):\n",
    "    for file in files:\n",
    "        images_negative.append(str(file))\n",
    "        neg_train_img.append(str(file))"
   ]
  },
  {
   "cell_type": "code",
   "execution_count": 56,
   "metadata": {},
   "outputs": [],
   "source": [
    "for root,dirs,files in os.walk(test_n):\n",
    "    for file in files:\n",
    "        images_negative.append(str(file))\n",
    "        neg_test_img.append(str(file))"
   ]
  },
  {
   "cell_type": "code",
   "execution_count": 57,
   "metadata": {},
   "outputs": [],
   "source": [
    "for root,dirs,files in os.walk(val_n):\n",
    "    for file in files:\n",
    "        images_negative.append(str(file))\n",
    "        neg_val_img.append(str(file))"
   ]
  },
  {
   "cell_type": "code",
   "execution_count": 59,
   "metadata": {},
   "outputs": [
    {
     "name": "stdout",
     "output_type": "stream",
     "text": [
      "Ci sono 1672 immagini di campioni negativi\n",
      "Ci sono 1015 immagini di train campioni negativi\n",
      "Ci sono 453 immagini di test campioni negativi\n",
      "Ci sono 203 immagini di validazione campioni negativi\n"
     ]
    }
   ],
   "source": [
    "print(f'Ci sono {len(images_negative)} immagini di campioni negativi')\n",
    "print(f'Ci sono {len(neg_train_img)} immagini di train campioni negativi')\n",
    "print(f'Ci sono {len(neg_test_img)} immagini di test campioni negativi')\n",
    "print(f'Ci sono {len(neg_val_img)} immagini di validazione campioni negativi')"
   ]
  },
  {
   "cell_type": "markdown",
   "metadata": {},
   "source": [
    "Per ognuna di queste immagini devo estrarre delle boundary box a cui applicare i descrittori, in maniera casuale"
   ]
  },
  {
   "cell_type": "markdown",
   "metadata": {},
   "source": [
    "Quindi in prima istanza posso pensare di vedere cosa accade se applico HOG ad una immagine"
   ]
  },
  {
   "cell_type": "code",
   "execution_count": 61,
   "metadata": {},
   "outputs": [],
   "source": [
    "path = 'Images_negative/train_neg/'"
   ]
  },
  {
   "cell_type": "code",
   "execution_count": 60,
   "metadata": {},
   "outputs": [
    {
     "data": {
      "text/plain": [
       "'no_person__no_bike_184.png'"
      ]
     },
     "execution_count": 60,
     "metadata": {},
     "output_type": "execute_result"
    }
   ],
   "source": [
    "neg_train_img[0]"
   ]
  },
  {
   "cell_type": "code",
   "execution_count": 71,
   "metadata": {},
   "outputs": [],
   "source": [
    "hog_n = cv2.HOGDescriptor()\n",
    "hog_n.setSVMDetector(cv2.HOGDescriptor_getDefaultPeopleDetector())"
   ]
  },
  {
   "cell_type": "code",
   "execution_count": 72,
   "metadata": {},
   "outputs": [],
   "source": [
    "neg_example_img = cv2.imread(path + neg_train_img[0])\n",
    "cv2.imshow('Immagine esempio', neg_example_img)\n",
    "cv2.waitKey(0)\n",
    "cv2.destroyAllWindows()"
   ]
  },
  {
   "cell_type": "code",
   "execution_count": 69,
   "metadata": {},
   "outputs": [
    {
     "data": {
      "text/plain": [
       "(480, 640, 3)"
      ]
     },
     "execution_count": 69,
     "metadata": {},
     "output_type": "execute_result"
    }
   ],
   "source": [
    "neg_example_img.shape"
   ]
  },
  {
   "cell_type": "code",
   "execution_count": 73,
   "metadata": {},
   "outputs": [],
   "source": [
    "locations, confidence = hog.detectMultiScale(neg_example_img, padding=(4,4), scale=1.2)"
   ]
  },
  {
   "cell_type": "code",
   "execution_count": 74,
   "metadata": {},
   "outputs": [
    {
     "data": {
      "text/plain": [
       "0"
      ]
     },
     "execution_count": 74,
     "metadata": {},
     "output_type": "execute_result"
    }
   ],
   "source": [
    "len(locations)"
   ]
  },
  {
   "cell_type": "code",
   "execution_count": 94,
   "metadata": {},
   "outputs": [],
   "source": [
    "import random\n",
    "\n",
    "h,w,_ = neg_example_img.shape\n",
    "portion_size = (150, 250) # da intedersi come (x,y)\n",
    "\n",
    "tries = 10\n",
    "\n",
    "sub_images = []\n",
    "for i in range(tries):\n",
    "    x = random.randint(0, w-1)\n",
    "    y = random.randint(0, h-1)\n",
    "    sub_neg_img = neg_example_img[y:y+portion_size[1], x:x+portion_size[0]].copy()\n",
    "    sub_images.append(sub_neg_img)"
   ]
  },
  {
   "cell_type": "code",
   "execution_count": 95,
   "metadata": {},
   "outputs": [],
   "source": [
    "for sub_image in sub_images:\n",
    "    cv2.imshow('Immagine esempio', sub_image)\n",
    "    cv2.waitKey(0)\n",
    "cv2.destroyAllWindows()"
   ]
  },
  {
   "cell_type": "markdown",
   "metadata": {},
   "source": [
    "Ora che sappiamo che comunque riesco a prendere delle finestre casuali, posso procedere a randomizzare il tutto per campioni negativi di train, test e validation. Per semplicità ricopio la funzione per applicare il resize"
   ]
  },
  {
   "cell_type": "code",
   "execution_count": 96,
   "metadata": {},
   "outputs": [],
   "source": [
    "def subimage_processing(img):\n",
    "    # faccio conversione in scala di grigi\n",
    "    # cv2.imshow('Immagine originale', img)\n",
    "    # cv2.waitKey(0)\n",
    "    img = cv2.cvtColor(img, cv2.COLOR_BGR2GRAY)\n",
    "    # poi applico una equilizzazione\n",
    "    img = cv2.equalizeHist(img)\n",
    "    # cv2.imshow('Immagine equilizzata', img)\n",
    "    # cv2.waitKey(0)\n",
    "    # quindi applico un filtro gaussiano er ridurre eventuale rumore\n",
    "    img = cv2.GaussianBlur(img,(5,5),0) # kernel size = 5x5, sigma_x = 0\n",
    "    # cv2.imshow('Immagine con filtro', img)\n",
    "    # cv2.waitKey(0)\n",
    "    # infine faccio reshape\n",
    "    img = cv2.resize(img, (64, 128))  # Larghezza x Altezza\n",
    "    # cv2.imshow('Immagine con reshape', img)\n",
    "    # cv2.waitKey(0)\n",
    "    # cv2.destroyAllWindows()\n",
    "    return img"
   ]
  },
  {
   "cell_type": "code",
   "execution_count": 105,
   "metadata": {},
   "outputs": [
    {
     "name": "stdout",
     "output_type": "stream",
     "text": [
      "3780\n",
      "3780\n",
      "3780\n",
      "3780\n",
      "3780\n",
      "3780\n",
      "3780\n",
      "3780\n",
      "3780\n",
      "3780\n"
     ]
    }
   ],
   "source": [
    "for sub_image in sub_images:\n",
    "    cv2.imshow('Immagine esempio', sub_image)\n",
    "    img_proc = subimage_processing(sub_image)\n",
    "    cv2.imshow('Immagine pronta per applicare il descrittore', img_proc)\n",
    "    descriptor = hog.compute(img_proc)\n",
    "    print(len(descriptor))\n",
    "    cv2.waitKey(0)\n",
    "cv2.destroyAllWindows()"
   ]
  },
  {
   "cell_type": "code",
   "execution_count": 125,
   "metadata": {},
   "outputs": [],
   "source": [
    "negative_samples = []"
   ]
  },
  {
   "cell_type": "markdown",
   "metadata": {},
   "source": [
    "#### Train Negativi"
   ]
  },
  {
   "cell_type": "code",
   "execution_count": 126,
   "metadata": {},
   "outputs": [],
   "source": [
    "neg_train_samples = []"
   ]
  },
  {
   "cell_type": "code",
   "execution_count": 127,
   "metadata": {},
   "outputs": [
    {
     "data": {
      "text/plain": [
       "'Images_negative/train_neg/'"
      ]
     },
     "execution_count": 127,
     "metadata": {},
     "output_type": "execute_result"
    }
   ],
   "source": [
    "path_train = train_n + '/'\n",
    "path_train"
   ]
  },
  {
   "cell_type": "code",
   "execution_count": 128,
   "metadata": {},
   "outputs": [
    {
     "data": {
      "text/plain": [
       "'Images_negative/train_neg/no_person__no_bike_184.png'"
      ]
     },
     "execution_count": 128,
     "metadata": {},
     "output_type": "execute_result"
    }
   ],
   "source": [
    "path_train + neg_train_img[0] # prende una immagine"
   ]
  },
  {
   "cell_type": "code",
   "execution_count": 129,
   "metadata": {},
   "outputs": [],
   "source": [
    "import random\n",
    "portion_size = (150, 250) # da intedersi come (x,y)"
   ]
  },
  {
   "cell_type": "code",
   "execution_count": 130,
   "metadata": {},
   "outputs": [
    {
     "name": "stdout",
     "output_type": "stream",
     "text": [
      "Index 0\n",
      "Index 100\n"
     ]
    },
    {
     "name": "stderr",
     "output_type": "stream",
     "text": [
      "libpng warning: iCCP: known incorrect sRGB profile\n",
      "libpng warning: iCCP: known incorrect sRGB profile\n"
     ]
    },
    {
     "name": "stdout",
     "output_type": "stream",
     "text": [
      "Index 200\n"
     ]
    },
    {
     "name": "stderr",
     "output_type": "stream",
     "text": [
      "libpng warning: iCCP: known incorrect sRGB profile\n",
      "libpng warning: iCCP: known incorrect sRGB profile\n",
      "libpng warning: iCCP: known incorrect sRGB profile\n"
     ]
    },
    {
     "name": "stdout",
     "output_type": "stream",
     "text": [
      "Index 300\n"
     ]
    },
    {
     "name": "stderr",
     "output_type": "stream",
     "text": [
      "libpng warning: iCCP: known incorrect sRGB profile\n"
     ]
    },
    {
     "name": "stdout",
     "output_type": "stream",
     "text": [
      "Index 400\n"
     ]
    },
    {
     "name": "stderr",
     "output_type": "stream",
     "text": [
      "libpng warning: iCCP: known incorrect sRGB profile\n",
      "libpng warning: iCCP: known incorrect sRGB profile\n",
      "libpng warning: iCCP: known incorrect sRGB profile\n"
     ]
    },
    {
     "name": "stdout",
     "output_type": "stream",
     "text": [
      "Index 500\n"
     ]
    },
    {
     "name": "stderr",
     "output_type": "stream",
     "text": [
      "libpng warning: iCCP: known incorrect sRGB profile\n",
      "libpng warning: iCCP: known incorrect sRGB profile\n",
      "libpng warning: iCCP: known incorrect sRGB profile\n"
     ]
    },
    {
     "name": "stdout",
     "output_type": "stream",
     "text": [
      "Index 600\n"
     ]
    },
    {
     "name": "stderr",
     "output_type": "stream",
     "text": [
      "libpng warning: iCCP: known incorrect sRGB profile\n",
      "libpng warning: iCCP: known incorrect sRGB profile\n",
      "libpng warning: iCCP: known incorrect sRGB profile\n",
      "libpng warning: iCCP: known incorrect sRGB profile\n"
     ]
    },
    {
     "name": "stdout",
     "output_type": "stream",
     "text": [
      "Index 700\n"
     ]
    },
    {
     "name": "stderr",
     "output_type": "stream",
     "text": [
      "libpng warning: iCCP: known incorrect sRGB profile\n",
      "libpng warning: iCCP: known incorrect sRGB profile\n"
     ]
    },
    {
     "name": "stdout",
     "output_type": "stream",
     "text": [
      "Index 800\n"
     ]
    },
    {
     "name": "stderr",
     "output_type": "stream",
     "text": [
      "libpng warning: iCCP: known incorrect sRGB profile\n",
      "libpng warning: iCCP: known incorrect sRGB profile\n"
     ]
    },
    {
     "name": "stdout",
     "output_type": "stream",
     "text": [
      "Index 900\n"
     ]
    },
    {
     "name": "stderr",
     "output_type": "stream",
     "text": [
      "libpng warning: iCCP: known incorrect sRGB profile\n"
     ]
    },
    {
     "name": "stdout",
     "output_type": "stream",
     "text": [
      "Index 1000\n"
     ]
    }
   ],
   "source": [
    "for i in range(len(neg_train_img)):\n",
    "    if (i%100 == 0):\n",
    "        print(f'Index {i}')\n",
    "    image_path = path_train + neg_train_img[i]\n",
    "    image = cv2.imread(image_path) \n",
    "    h,w,_ = image.shape\n",
    "    tries = random.randint(1,5) # sceglie di prende un numero casuale di immagini        \n",
    "    sub_images = []\n",
    "    for j in range(tries):\n",
    "        x = random.randint(0, w-1)\n",
    "        y = random.randint(0, h-1)\n",
    "        sub_neg_img = image[y:y+portion_size[1], x:x+portion_size[0]].copy()\n",
    "        sub_images.append(sub_neg_img)\n",
    "    for subimage in sub_images:\n",
    "        subimage = subimage_processing(subimage)\n",
    "        descriptor = hog.compute(subimage)\n",
    "        new_sample = (descriptor,0)\n",
    "        negative_samples.append(new_sample)\n",
    "        neg_train_samples.append(new_sample)"
   ]
  },
  {
   "cell_type": "code",
   "execution_count": 131,
   "metadata": {},
   "outputs": [
    {
     "name": "stdout",
     "output_type": "stream",
     "text": [
      "Ci sono 2954 esempi di addestramento\n"
     ]
    }
   ],
   "source": [
    "print(f'Ci sono {len(neg_train_samples)} esempi di addestramento')"
   ]
  },
  {
   "cell_type": "code",
   "execution_count": 137,
   "metadata": {},
   "outputs": [
    {
     "data": {
      "text/plain": [
       "0"
      ]
     },
     "execution_count": 137,
     "metadata": {},
     "output_type": "execute_result"
    }
   ],
   "source": [
    "neg_train_samples[0][1]"
   ]
  },
  {
   "cell_type": "code",
   "execution_count": 135,
   "metadata": {},
   "outputs": [
    {
     "data": {
      "text/plain": [
       "3780"
      ]
     },
     "execution_count": 135,
     "metadata": {},
     "output_type": "execute_result"
    }
   ],
   "source": [
    "len(neg_train_samples[0][0])"
   ]
  },
  {
   "cell_type": "code",
   "execution_count": 138,
   "metadata": {},
   "outputs": [],
   "source": [
    "train_samples += neg_train_samples"
   ]
  },
  {
   "cell_type": "code",
   "execution_count": 139,
   "metadata": {},
   "outputs": [
    {
     "name": "stdout",
     "output_type": "stream",
     "text": [
      "In totale ci sono 18144 campioni di addestramento\n"
     ]
    }
   ],
   "source": [
    "print(f'In totale ci sono {len(train_samples)} campioni di addestramento')"
   ]
  },
  {
   "cell_type": "markdown",
   "metadata": {},
   "source": [
    "#### Test Negativi"
   ]
  },
  {
   "cell_type": "code",
   "execution_count": 140,
   "metadata": {},
   "outputs": [],
   "source": [
    "neg_test_samples = []"
   ]
  },
  {
   "cell_type": "code",
   "execution_count": 141,
   "metadata": {},
   "outputs": [
    {
     "data": {
      "text/plain": [
       "'Images_negative/test_neg/'"
      ]
     },
     "execution_count": 141,
     "metadata": {},
     "output_type": "execute_result"
    }
   ],
   "source": [
    "path_test = test_n + '/'\n",
    "path_test"
   ]
  },
  {
   "cell_type": "code",
   "execution_count": 142,
   "metadata": {},
   "outputs": [
    {
     "name": "stdout",
     "output_type": "stream",
     "text": [
      "Index 0\n"
     ]
    },
    {
     "name": "stderr",
     "output_type": "stream",
     "text": [
      "libpng warning: iCCP: known incorrect sRGB profile\n",
      "libpng warning: iCCP: known incorrect sRGB profile\n"
     ]
    },
    {
     "name": "stdout",
     "output_type": "stream",
     "text": [
      "Index 100\n"
     ]
    },
    {
     "name": "stderr",
     "output_type": "stream",
     "text": [
      "libpng warning: iCCP: known incorrect sRGB profile\n",
      "libpng warning: iCCP: known incorrect sRGB profile\n",
      "libpng warning: iCCP: known incorrect sRGB profile\n"
     ]
    },
    {
     "name": "stdout",
     "output_type": "stream",
     "text": [
      "Index 200\n"
     ]
    },
    {
     "name": "stderr",
     "output_type": "stream",
     "text": [
      "libpng warning: iCCP: known incorrect sRGB profile\n",
      "libpng warning: iCCP: known incorrect sRGB profile\n",
      "libpng warning: iCCP: known incorrect sRGB profile\n",
      "libpng warning: iCCP: known incorrect sRGB profile\n",
      "libpng warning: iCCP: known incorrect sRGB profile\n"
     ]
    },
    {
     "name": "stdout",
     "output_type": "stream",
     "text": [
      "Index 300\n"
     ]
    },
    {
     "name": "stderr",
     "output_type": "stream",
     "text": [
      "libpng warning: iCCP: known incorrect sRGB profile\n",
      "libpng warning: iCCP: known incorrect sRGB profile\n"
     ]
    },
    {
     "name": "stdout",
     "output_type": "stream",
     "text": [
      "Index 400\n"
     ]
    }
   ],
   "source": [
    "for i in range(len(neg_test_img)):\n",
    "    if (i%100 == 0):\n",
    "        print(f'Index {i}')\n",
    "    image_path = path_test + neg_test_img[i]\n",
    "    image = cv2.imread(image_path) \n",
    "    h,w,_ = image.shape\n",
    "    tries = random.randint(1,5) # sceglie di prende un numero casuale di immagini        \n",
    "    sub_images = []\n",
    "    for j in range(tries):\n",
    "        x = random.randint(0, w-1)\n",
    "        y = random.randint(0, h-1)\n",
    "        sub_neg_img = image[y:y+portion_size[1], x:x+portion_size[0]].copy()\n",
    "        sub_images.append(sub_neg_img)\n",
    "    for subimage in sub_images:\n",
    "        subimage = subimage_processing(subimage)\n",
    "        descriptor = hog.compute(subimage)\n",
    "        new_sample = (descriptor,0)\n",
    "        negative_samples.append(new_sample)\n",
    "        neg_test_samples.append(new_sample)"
   ]
  },
  {
   "cell_type": "code",
   "execution_count": 143,
   "metadata": {},
   "outputs": [
    {
     "name": "stdout",
     "output_type": "stream",
     "text": [
      "Ci sono 1370 esempi di test\n"
     ]
    }
   ],
   "source": [
    "print(f'Ci sono {len(neg_test_samples)} esempi di test')"
   ]
  },
  {
   "cell_type": "code",
   "execution_count": 144,
   "metadata": {},
   "outputs": [],
   "source": [
    "test_samples += neg_test_samples"
   ]
  },
  {
   "cell_type": "code",
   "execution_count": 145,
   "metadata": {},
   "outputs": [
    {
     "name": "stdout",
     "output_type": "stream",
     "text": [
      "Ci sono 3678 esempi di test in totale\n"
     ]
    }
   ],
   "source": [
    "print(f'Ci sono {len(test_samples)} esempi di test in totale')"
   ]
  },
  {
   "cell_type": "markdown",
   "metadata": {},
   "source": [
    "#### Val Negativi"
   ]
  },
  {
   "cell_type": "code",
   "execution_count": 149,
   "metadata": {},
   "outputs": [],
   "source": [
    "neg_val_samples = []"
   ]
  },
  {
   "cell_type": "code",
   "execution_count": 150,
   "metadata": {},
   "outputs": [
    {
     "data": {
      "text/plain": [
       "'Images_negative/val_neg/'"
      ]
     },
     "execution_count": 150,
     "metadata": {},
     "output_type": "execute_result"
    }
   ],
   "source": [
    "path_val = val_n + '/'\n",
    "path_val"
   ]
  },
  {
   "cell_type": "code",
   "execution_count": 151,
   "metadata": {},
   "outputs": [
    {
     "name": "stdout",
     "output_type": "stream",
     "text": [
      "Index 0\n"
     ]
    },
    {
     "name": "stderr",
     "output_type": "stream",
     "text": [
      "libpng warning: iCCP: known incorrect sRGB profile\n",
      "libpng warning: iCCP: known incorrect sRGB profile\n"
     ]
    },
    {
     "name": "stdout",
     "output_type": "stream",
     "text": [
      "Index 100\n"
     ]
    },
    {
     "name": "stderr",
     "output_type": "stream",
     "text": [
      "libpng warning: iCCP: known incorrect sRGB profile\n",
      "libpng warning: iCCP: known incorrect sRGB profile\n"
     ]
    },
    {
     "name": "stdout",
     "output_type": "stream",
     "text": [
      "Index 200\n"
     ]
    }
   ],
   "source": [
    "for i in range(len(neg_val_img)):\n",
    "    if (i%100 == 0):\n",
    "        print(f'Index {i}')\n",
    "    image_path = path_val + neg_val_img[i]\n",
    "    image = cv2.imread(image_path) \n",
    "    h,w,_ = image.shape\n",
    "    tries = random.randint(1,5) # sceglie di prende un numero casuale di immagini        \n",
    "    sub_images = []\n",
    "    for j in range(tries):\n",
    "        x = random.randint(0, w-1)\n",
    "        y = random.randint(0, h-1)\n",
    "        sub_neg_img = image[y:y+portion_size[1], x:x+portion_size[0]].copy()\n",
    "        sub_images.append(sub_neg_img)\n",
    "    for subimage in sub_images:\n",
    "        subimage = subimage_processing(subimage)\n",
    "        descriptor = hog.compute(subimage)\n",
    "        new_sample = (descriptor,0)\n",
    "        negative_samples.append(new_sample)\n",
    "        neg_val_samples.append(new_sample)"
   ]
  },
  {
   "cell_type": "code",
   "execution_count": 152,
   "metadata": {},
   "outputs": [
    {
     "name": "stdout",
     "output_type": "stream",
     "text": [
      "Ci sono 620 campioni di validazione negativi\n"
     ]
    }
   ],
   "source": [
    "print(f'Ci sono {len(neg_val_samples)} campioni di validazione negativi')"
   ]
  },
  {
   "cell_type": "code",
   "execution_count": 153,
   "metadata": {},
   "outputs": [],
   "source": [
    "val_samples += neg_val_samples"
   ]
  },
  {
   "cell_type": "code",
   "execution_count": 154,
   "metadata": {},
   "outputs": [
    {
     "name": "stdout",
     "output_type": "stream",
     "text": [
      "CI sono 2928 campioni di validazione in totale\n"
     ]
    }
   ],
   "source": [
    "print(f'CI sono {len(val_samples)} campioni di validazione in totale')"
   ]
  },
  {
   "cell_type": "markdown",
   "metadata": {},
   "source": [
    "### Risultato finale"
   ]
  },
  {
   "cell_type": "markdown",
   "metadata": {},
   "source": [
    "Adesso, se volessimo utilizzare i campioni per addestrare un modello dobbiamo vedere gli array:\n",
    "- train_samples\n",
    "- test_samples\n",
    "- val_samples"
   ]
  },
  {
   "cell_type": "code",
   "execution_count": 146,
   "metadata": {},
   "outputs": [
    {
     "data": {
      "text/plain": [
       "18144"
      ]
     },
     "execution_count": 146,
     "metadata": {},
     "output_type": "execute_result"
    }
   ],
   "source": [
    "len(train_samples)"
   ]
  },
  {
   "cell_type": "code",
   "execution_count": 147,
   "metadata": {},
   "outputs": [
    {
     "data": {
      "text/plain": [
       "3678"
      ]
     },
     "execution_count": 147,
     "metadata": {},
     "output_type": "execute_result"
    }
   ],
   "source": [
    "len(test_samples)"
   ]
  },
  {
   "cell_type": "code",
   "execution_count": 155,
   "metadata": {},
   "outputs": [
    {
     "data": {
      "text/plain": [
       "2928"
      ]
     },
     "execution_count": 155,
     "metadata": {},
     "output_type": "execute_result"
    }
   ],
   "source": [
    "len(val_samples)"
   ]
  },
  {
   "cell_type": "code",
   "execution_count": 156,
   "metadata": {},
   "outputs": [
    {
     "data": {
      "text/plain": [
       "21815"
      ]
     },
     "execution_count": 156,
     "metadata": {},
     "output_type": "execute_result"
    }
   ],
   "source": [
    "len(positive_samples)"
   ]
  },
  {
   "cell_type": "code",
   "execution_count": 157,
   "metadata": {},
   "outputs": [
    {
     "data": {
      "text/plain": [
       "4944"
      ]
     },
     "execution_count": 157,
     "metadata": {},
     "output_type": "execute_result"
    }
   ],
   "source": [
    "len(negative_samples)"
   ]
  },
  {
   "cell_type": "code",
   "execution_count": 158,
   "metadata": {},
   "outputs": [],
   "source": [
    "def count_class_set(set_):\n",
    "    class_0 = 0\n",
    "    class_1 = 0\n",
    "    for item in set_:\n",
    "        if item[1] == 0:\n",
    "            class_0 += 1\n",
    "        else:\n",
    "            class_1 += 1\n",
    "    return (class_0, class_1)"
   ]
  },
  {
   "cell_type": "code",
   "execution_count": 159,
   "metadata": {},
   "outputs": [],
   "source": [
    "suddivisione_train = count_class_set(train_samples)"
   ]
  },
  {
   "cell_type": "code",
   "execution_count": 160,
   "metadata": {},
   "outputs": [
    {
     "name": "stdout",
     "output_type": "stream",
     "text": [
      "Suddivisione: 2954 elementi di classe 0, 15190 elementi di classe 1\n"
     ]
    }
   ],
   "source": [
    "print(f'Suddivisione: {suddivisione_train[0]} elementi di classe 0, {suddivisione_train[1]} elementi di classe 1')"
   ]
  },
  {
   "cell_type": "code",
   "execution_count": 161,
   "metadata": {},
   "outputs": [
    {
     "name": "stdout",
     "output_type": "stream",
     "text": [
      "Suddivisione: 1370 elementi di classe 0, 2308 elementi di classe 1\n"
     ]
    }
   ],
   "source": [
    "suddivisione_test = count_class_set(test_samples)\n",
    "print(f'Suddivisione: {suddivisione_test[0]} elementi di classe 0, {suddivisione_test[1]} elementi di classe 1')"
   ]
  },
  {
   "cell_type": "code",
   "execution_count": 162,
   "metadata": {},
   "outputs": [
    {
     "name": "stdout",
     "output_type": "stream",
     "text": [
      "Suddivisione: 620 elementi di classe 0, 2308 elementi di classe 1\n"
     ]
    }
   ],
   "source": [
    "suddivisione_val = count_class_set(val_samples)\n",
    "print(f'Suddivisione: {suddivisione_val[0]} elementi di classe 0, {suddivisione_val[1]} elementi di classe 1')"
   ]
  },
  {
   "cell_type": "code",
   "execution_count": 170,
   "metadata": {},
   "outputs": [
    {
     "data": {
      "text/plain": [
       "3780"
      ]
     },
     "execution_count": 170,
     "metadata": {},
     "output_type": "execute_result"
    }
   ],
   "source": [
    "len(train_samples[-1500][0])"
   ]
  }
 ],
 "metadata": {
  "kernelspec": {
   "display_name": "Python 3",
   "language": "python",
   "name": "python3"
  },
  "language_info": {
   "codemirror_mode": {
    "name": "ipython",
    "version": 3
   },
   "file_extension": ".py",
   "mimetype": "text/x-python",
   "name": "python",
   "nbconvert_exporter": "python",
   "pygments_lexer": "ipython3",
   "version": "3.10.12"
  }
 },
 "nbformat": 4,
 "nbformat_minor": 2
}
